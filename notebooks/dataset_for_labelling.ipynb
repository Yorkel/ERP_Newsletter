{
 "cells": [
  {
   "cell_type": "raw",
   "id": "f4d7b011-2d70-4dbb-be08-a4fe8f9273d2",
   "metadata": {},
   "source": [
    "# ==========================================\n",
    "# Balanced sample: 300 total (100 per theme)\n",
    "#  - 3 themes only\n",
    "#  - Top-20 organisations + \"Other\"\n",
    "#  - ~70% from Top-20 (proportional, per-org cap), ~30% from Other\n",
    "#  - Exact 300 rows; reproducible (seed=42)\n",
    "# =========================================="
   ]
  },
  {
   "cell_type": "markdown",
   "id": "f6d2342f-69fa-473f-b2a3-477a1c548eee",
   "metadata": {},
   "source": [
    "# Imports and Data"
   ]
  },
  {
   "cell_type": "code",
   "execution_count": 21,
   "id": "593d960b-39af-493b-bc4a-63e163d3421d",
   "metadata": {},
   "outputs": [],
   "source": [
    "#imports \n",
    "import pandas as pd\n",
    "import numpy as np "
   ]
  },
  {
   "cell_type": "code",
   "execution_count": 4,
   "id": "4fde27e4-8e4e-4d04-9492-76a42877d79c",
   "metadata": {},
   "outputs": [
    {
     "data": {
      "text/html": [
       "<div>\n",
       "<style scoped>\n",
       "    .dataframe tbody tr th:only-of-type {\n",
       "        vertical-align: middle;\n",
       "    }\n",
       "\n",
       "    .dataframe tbody tr th {\n",
       "        vertical-align: top;\n",
       "    }\n",
       "\n",
       "    .dataframe thead th {\n",
       "        text-align: right;\n",
       "    }\n",
       "</style>\n",
       "<table border=\"1\" class=\"dataframe\">\n",
       "  <thead>\n",
       "    <tr style=\"text-align: right;\">\n",
       "      <th></th>\n",
       "      <th>id</th>\n",
       "      <th>newsletter_number</th>\n",
       "      <th>issue_date</th>\n",
       "      <th>new_theme</th>\n",
       "      <th>text</th>\n",
       "      <th>domain</th>\n",
       "      <th>organisation</th>\n",
       "    </tr>\n",
       "  </thead>\n",
       "  <tbody>\n",
       "    <tr>\n",
       "      <th>0</th>\n",
       "      <td>c97ff62f-83ca-47ec-a4c7-b4e24157ae0a</td>\n",
       "      <td>1</td>\n",
       "      <td>11 July 2023</td>\n",
       "      <td>political_context_and_organisations</td>\n",
       "      <td>Deadline 23 August 2023 Education secretary Gi...</td>\n",
       "      <td>schoolsweek.co.uk</td>\n",
       "      <td>schools_week</td>\n",
       "    </tr>\n",
       "  </tbody>\n",
       "</table>\n",
       "</div>"
      ],
      "text/plain": [
       "                                     id  newsletter_number    issue_date  \\\n",
       "0  c97ff62f-83ca-47ec-a4c7-b4e24157ae0a                  1  11 July 2023   \n",
       "\n",
       "                             new_theme  \\\n",
       "0  political_context_and_organisations   \n",
       "\n",
       "                                                text             domain  \\\n",
       "0  Deadline 23 August 2023 Education secretary Gi...  schoolsweek.co.uk   \n",
       "\n",
       "   organisation  \n",
       "0  schools_week  "
      ]
     },
     "execution_count": 4,
     "metadata": {},
     "output_type": "execute_result"
    }
   ],
   "source": [
    "#data\n",
    "df = pd.read_csv(\"/workspaces/ERP_Newsletter/data_processed/data_for_preprocessing.csv\")\n",
    "df.head(1)"
   ]
  },
  {
   "cell_type": "markdown",
   "id": "7056a5de-9129-43fb-a2f3-9e613dd5a662",
   "metadata": {},
   "source": [
    "# Keep only three main themes "
   ]
  },
  {
   "cell_type": "code",
   "execution_count": 10,
   "id": "8b26d5a7-a4bb-4a12-85f9-8949c6d02f14",
   "metadata": {},
   "outputs": [
    {
     "data": {
      "text/plain": [
       "new_theme\n",
       "political_context_and_organisations    614\n",
       "project_updates                        182\n",
       "teacher_rrd                            168\n",
       "digital_ed                             158\n",
       "events_opportunities_research           30\n",
       "Name: count, dtype: int64"
      ]
     },
     "execution_count": 10,
     "metadata": {},
     "output_type": "execute_result"
    }
   ],
   "source": [
    "df[\"new_theme\"].value_counts()"
   ]
  },
  {
   "cell_type": "code",
   "execution_count": 12,
   "id": "c95acec5-d881-44ed-a80e-f89580f8c7e3",
   "metadata": {},
   "outputs": [
    {
     "data": {
      "text/plain": [
       "new_theme\n",
       "political_context_and_organisations    614\n",
       "teacher_rrd                            168\n",
       "digital_ed                             158\n",
       "Name: count, dtype: int64"
      ]
     },
     "execution_count": 12,
     "metadata": {},
     "output_type": "execute_result"
    }
   ],
   "source": [
    "themes_keep = [\n",
    "    \"political_context_and_organisations\",\n",
    "    \"teacher_rrd\",\n",
    "    \"digital_ed\"\n",
    "]\n",
    "df=df[df[\"new_theme\"].isin(themes_keep)].copy()\n",
    "\n",
    "df[\"new_theme\"].value_counts()    "
   ]
  },
  {
   "cell_type": "code",
   "execution_count": 13,
   "id": "bef13b1c-74df-40d7-b6b9-29660bb31af8",
   "metadata": {},
   "outputs": [
    {
     "name": "stdout",
     "output_type": "stream",
     "text": [
      "<class 'pandas.core.frame.DataFrame'>\n",
      "Index: 940 entries, 0 to 1149\n",
      "Data columns (total 7 columns):\n",
      " #   Column             Non-Null Count  Dtype \n",
      "---  ------             --------------  ----- \n",
      " 0   id                 940 non-null    object\n",
      " 1   newsletter_number  940 non-null    int64 \n",
      " 2   issue_date         940 non-null    object\n",
      " 3   new_theme          940 non-null    object\n",
      " 4   text               940 non-null    object\n",
      " 5   domain             940 non-null    object\n",
      " 6   organisation       940 non-null    object\n",
      "dtypes: int64(1), object(6)\n",
      "memory usage: 58.8+ KB\n"
     ]
    }
   ],
   "source": [
    "df.info()"
   ]
  },
  {
   "cell_type": "markdown",
   "id": "9556acd9-119f-4c5c-80c5-b6f901e5fdb2",
   "metadata": {},
   "source": [
    "# Identify the top 20 organisations "
   ]
  },
  {
   "cell_type": "code",
   "execution_count": 15,
   "id": "7a36b149-dc45-4df6-95fd-a5fc614fcaca",
   "metadata": {},
   "outputs": [
    {
     "name": "stdout",
     "output_type": "stream",
     "text": [
      "\n",
      "Top 20 organisations:\n",
      "org_group\n",
      "Other                       397\n",
      "schools_week                145\n",
      "uk_government                67\n",
      "guardian                     27\n",
      "ucl                          25\n",
      "epi                          25\n",
      "nfer                         24\n",
      "bera                         23\n",
      "uk_parliament                22\n",
      "welsh_government             21\n",
      "scottish_government          21\n",
      "conversation                 19\n",
      "oecd                         19\n",
      "belfast_telegraph            16\n",
      "ni_government                16\n",
      "upen                         13\n",
      "teacher_tapp                 13\n",
      "fft_ed_datalab               13\n",
      "nuffield                     12\n",
      "university_of_birmingham     12\n",
      "Name: count, dtype: int64\n"
     ]
    }
   ],
   "source": [
    "top20_orgs = df[\"organisation\"].value_counts().head(20).index.tolist()\n",
    "df[\"org_group\"] = df[\"organisation\"].where(df[\"organisation\"].isin(top20_orgs), \"Other\")\n",
    "print(\"\\nTop 20 organisations:\")\n",
    "print(df[\"org_group\"].value_counts().head(20))"
   ]
  },
  {
   "cell_type": "markdown",
   "id": "79fceca8-b41f-43af-9a7a-5cebdcb46f57",
   "metadata": {},
   "source": [
    "# Make Time Bins "
   ]
  },
  {
   "cell_type": "code",
   "execution_count": 18,
   "id": "09485aee-7299-489c-aca5-043c706fd0a0",
   "metadata": {},
   "outputs": [],
   "source": [
    "df[\"issue_date\"] = pd.to_datetime(df[\"issue_date\"], errors=\"coerce\")\n",
    "df[\"year_quarter\"] = df[\"issue_date\"].dt.to_period(\"Q\").astype(str).fillna(\"unknown\")"
   ]
  },
  {
   "cell_type": "code",
   "execution_count": null,
   "id": "b65901e1-f8aa-4b5b-9846-de4993e817c2",
   "metadata": {},
   "outputs": [],
   "source": [
    "#COLLAPSE "
   ]
  },
  {
   "cell_type": "markdown",
   "id": "8a901ead-e7a5-4c66-b087-ab7ac90464d8",
   "metadata": {},
   "source": [
    "# Balanced sampling plan"
   ]
  },
  {
   "cell_type": "code",
   "execution_count": 24,
   "id": "5d86c1b9-a55b-43d1-af1e-fad69834f176",
   "metadata": {},
   "outputs": [],
   "source": [
    "TOTAL = 300\n",
    "per_theme = TOTAL // 3        # 100 per theme\n",
    "share_top = 0.70              # ~70% from Top-20, 30% Other\n",
    "rng = np.random.default_rng(42)\n",
    "\n",
    "samples = []\n",
    "\n",
    "for theme, g in df.groupby(\"new_theme\", group_keys=False):\n",
    "    target_theme = per_theme\n",
    "\n",
    "    # Split theme pool into Top-20 vs Other\n",
    "    g_top = g[g[\"org_group\"] != \"Other\"].copy()\n",
    "    g_other = g[g[\"org_group\"] == \"Other\"].copy()\n",
    "\n",
    "    need_top = int(round(target_theme * share_top))\n",
    "    need_other = target_theme - need_top\n",
    "\n",
    "    # Allocate need_top across the top orgs (proportional, with cap)\n",
    "    CAP_PER_ORG = max(3, int(np.ceil(need_top / max(1, g_top[\"org_group\"].nunique()))) + 2)\n",
    "\n",
    "    parts = []\n",
    "\n",
    "    if len(g_top) > 0 and need_top > 0:\n",
    "        counts = g_top[\"org_group\"].value_counts()\n",
    "\n",
    "        # Proportional base allocation\n",
    "        prop = (counts / counts.sum()) * need_top\n",
    "        base = prop.astype(int)\n",
    "\n",
    "        # Distribute remainder by largest fractional parts\n",
    "        remainder = need_top - int(base.sum())\n",
    "        if remainder > 0:\n",
    "            frac = (prop - base).sort_values(ascending=False)\n",
    "            for k in frac.index.tolist():\n",
    "                if remainder <= 0:\n",
    "                    break\n",
    "                base[k] = base.get(k, 0) + 1\n",
    "                remainder -= 1\n",
    "\n",
    "        # Apply a per-org cap to avoid dominance\n",
    "        base = base.clip(upper=CAP_PER_ORG)\n",
    "\n",
    "        # If cap made us short, top up using any headroom left\n",
    "        short = need_top - int(base.sum())\n",
    "        if short > 0:\n",
    "            headroom = pd.Series(\n",
    "                {k: max(0, CAP_PER_ORG - base.get(k, 0)) for k in counts.index}\n",
    "            ).sort_values(ascending=False)\n",
    "            for k, room in headroom.items():\n",
    "                if short <= 0:\n",
    "                    break\n",
    "                add = min(short, room)\n",
    "                if add > 0:\n",
    "                    base[k] = base.get(k, 0) + add\n",
    "                    short -= add\n",
    "\n",
    "        # Sample from each top org\n",
    "        for k, n_take in base.items():\n",
    "            if n_take <= 0:\n",
    "                continue\n",
    "            pool = g_top[g_top[\"org_group\"] == k]\n",
    "            n_take = min(n_take, len(pool))\n",
    "            if n_take > 0:\n",
    "                parts.append(pool.sample(n=n_take, random_state=42))\n",
    "\n",
    "    samp_top = pd.concat(parts, ignore_index=False) if parts else g_top.iloc[0:0]\n",
    "\n",
    "    # Sample from Other to reach target_theme\n",
    "    need_other = target_theme - len(samp_top)\n",
    "    if need_other > 0 and len(g_other) > 0:\n",
    "        n_take_other = min(need_other, len(g_other))\n",
    "        samp_other = g_other.sample(n=n_take_other, random_state=42)\n",
    "    else:\n",
    "        samp_other = g.iloc[0:0]\n",
    "\n",
    "    # Combine theme samples\n",
    "    samp_theme = pd.concat([samp_top, samp_other], ignore_index=False)\n",
    "\n",
    "    # If still short (e.g., not enough Top/Other), fill from remaining rows in this theme\n",
    "    shortfall = target_theme - len(samp_theme)\n",
    "    if shortfall > 0:\n",
    "        remaining = g.drop(samp_theme.index, errors=\"ignore\")\n",
    "        if len(remaining) > 0:\n",
    "            extra = remaining.sample(n=min(shortfall, len(remaining)), random_state=42)\n",
    "            samp_theme = pd.concat([samp_theme, extra], ignore_index=False)\n",
    "\n",
    "    # Trim in the unlikely event we’re a tad over\n",
    "    if len(samp_theme) > target_theme:\n",
    "        samp_theme = samp_theme.sample(n=target_theme, random_state=42)\n",
    "\n",
    "    samples.append(samp_theme)\n",
    "\n",
    "# Final sample\n",
    "sample = pd.concat(samples, ignore_index=False)"
   ]
  },
  {
   "cell_type": "markdown",
   "id": "8e87504d-498c-437d-8e5a-6218a4c2f9e8",
   "metadata": {},
   "source": [
    "# Checks"
   ]
  },
  {
   "cell_type": "code",
   "execution_count": 25,
   "id": "32ac425c-1d4d-4802-8870-e801f9772d12",
   "metadata": {},
   "outputs": [
    {
     "name": "stdout",
     "output_type": "stream",
     "text": [
      "\n",
      "Per-theme counts:\n",
      "new_theme\n",
      "digital_ed                             100\n",
      "political_context_and_organisations    100\n",
      "teacher_rrd                            100\n",
      "Name: count, dtype: int64\n",
      "\n",
      "Org_group (Top-20 + Other):\n",
      "org_group\n",
      "Other                       123\n",
      "schools_week                 26\n",
      "uk_government                20\n",
      "guardian                     12\n",
      "oecd                         12\n",
      "nfer                         12\n",
      "bera                         12\n",
      "teacher_tapp                 12\n",
      "uk_parliament                11\n",
      "conversation                  9\n",
      "ucl                           9\n",
      "tes                           8\n",
      "epi                           7\n",
      "ni_government                 4\n",
      "nuffield                      4\n",
      "welsh_government              4\n",
      "scottish_government           4\n",
      "university_of_birmingham      3\n",
      "belfast_telegraph             3\n",
      "fft_ed_datalab                3\n",
      "upen                          2\n",
      "Name: count, dtype: int64\n",
      "\n",
      "Time coverage (year-quarter, top 10):\n",
      "year_quarter\n",
      "2025Q2    53\n",
      "2024Q2    39\n",
      "2025Q1    37\n",
      "2023Q4    35\n",
      "2024Q1    32\n",
      "2023Q3    32\n",
      "2024Q4    27\n",
      "2025Q3    22\n",
      "2024Q3    18\n",
      "2025Q4     5\n",
      "Name: count, dtype: int64\n"
     ]
    }
   ],
   "source": [
    "print(\"\\nPer-theme counts:\")\n",
    "print(sample[\"new_theme\"].value_counts())\n",
    "\n",
    "print(\"\\nOrg_group (Top-20 + Other):\")\n",
    "print(sample[\"org_group\"].value_counts().head(25))\n",
    "\n",
    "print(\"\\nTime coverage (year-quarter, top 10):\")\n",
    "print(sample[\"year_quarter\"].value_counts().head(10))"
   ]
  },
  {
   "cell_type": "markdown",
   "id": "e16e0de0-73cc-4129-82f9-ba83aaf6d0da",
   "metadata": {},
   "source": [
    "# Save "
   ]
  },
  {
   "cell_type": "code",
   "execution_count": 29,
   "id": "591d9d57-b2c3-4b2f-bc83-023c2ee5ba21",
   "metadata": {},
   "outputs": [
    {
     "name": "stdout",
     "output_type": "stream",
     "text": [
      "\n",
      "📄 Saved labeling file: /workspaces/ERP_Newsletter/data_processed/sample_to_label.xlsx  (rows=300)\n"
     ]
    }
   ],
   "source": [
    "labeling_df = sample[[\n",
    "    \"id\",\n",
    "    \"text\",\n",
    "    \"new_theme\",\n",
    "    \"org_group\",\n",
    "    \"organisation\",\n",
    "    \"issue_date\"\n",
    "]].copy()\n",
    "\n",
    "labeling_df[\"manual_label\"] = \"\"\n",
    "\n",
    "out_path = \"/workspaces/ERP_Newsletter/data_processed/sample_to_label.xlsx\"\n",
    "labeling_df.to_excel(out_path, index=False)\n",
    "\n",
    "print(f\"\\n📄 Saved labeling file: {out_path}  (rows={len(labeling_df)})\")"
   ]
  },
  {
   "cell_type": "code",
   "execution_count": null,
   "id": "4c26e7b5-c3ee-40a5-a20b-f2e118592fd2",
   "metadata": {},
   "outputs": [],
   "source": []
  }
 ],
 "metadata": {
  "kernelspec": {
   "display_name": "Python 3 (ipykernel)",
   "language": "python",
   "name": "python3"
  },
  "language_info": {
   "codemirror_mode": {
    "name": "ipython",
    "version": 3
   },
   "file_extension": ".py",
   "mimetype": "text/x-python",
   "name": "python",
   "nbconvert_exporter": "python",
   "pygments_lexer": "ipython3",
   "version": "3.12.1"
  }
 },
 "nbformat": 4,
 "nbformat_minor": 5
}
