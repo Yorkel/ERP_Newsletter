{
 "cells": [
  {
   "cell_type": "code",
   "execution_count": 1,
   "id": "ba48cc3a-106d-4caf-897c-ce30880e983a",
   "metadata": {},
   "outputs": [],
   "source": [
    "import pandas as pd \n",
    "import matplotlib.pyplot as plt "
   ]
  },
  {
   "cell_type": "code",
   "execution_count": 2,
   "id": "dec252ed-1490-4279-b135-ab43b7d72cba",
   "metadata": {},
   "outputs": [],
   "source": [
    "#load data \n",
    "path = \"/workspaces/ERP_Newsletter/data_processed/newsletter_items.csv\"\n",
    "df = pd.read_csv(path)"
   ]
  },
  {
   "cell_type": "code",
   "execution_count": 3,
   "id": "e8886c82-633f-4741-9328-e73cd1b3dc87",
   "metadata": {
    "scrolled": true
   },
   "outputs": [
    {
     "name": "stdout",
     "output_type": "stream",
     "text": [
      "<class 'pandas.core.frame.DataFrame'>\n",
      "RangeIndex: 1668 entries, 0 to 1667\n",
      "Data columns (total 8 columns):\n",
      " #   Column             Non-Null Count  Dtype \n",
      "---  ------             --------------  ----- \n",
      " 0   id                 1668 non-null   object\n",
      " 1   newsletter_number  1668 non-null   int64 \n",
      " 2   issue_date         1668 non-null   object\n",
      " 3   theme              1668 non-null   object\n",
      " 4   subtheme           114 non-null    object\n",
      " 5   title              1668 non-null   object\n",
      " 6   description        1347 non-null   object\n",
      " 7   link               1616 non-null   object\n",
      "dtypes: int64(1), object(7)\n",
      "memory usage: 104.4+ KB\n"
     ]
    },
    {
     "data": {
      "text/html": [
       "<div>\n",
       "<style scoped>\n",
       "    .dataframe tbody tr th:only-of-type {\n",
       "        vertical-align: middle;\n",
       "    }\n",
       "\n",
       "    .dataframe tbody tr th {\n",
       "        vertical-align: top;\n",
       "    }\n",
       "\n",
       "    .dataframe thead th {\n",
       "        text-align: right;\n",
       "    }\n",
       "</style>\n",
       "<table border=\"1\" class=\"dataframe\">\n",
       "  <thead>\n",
       "    <tr style=\"text-align: right;\">\n",
       "      <th></th>\n",
       "      <th>id</th>\n",
       "      <th>newsletter_number</th>\n",
       "      <th>issue_date</th>\n",
       "      <th>theme</th>\n",
       "      <th>subtheme</th>\n",
       "      <th>title</th>\n",
       "      <th>description</th>\n",
       "      <th>link</th>\n",
       "    </tr>\n",
       "  </thead>\n",
       "  <tbody>\n",
       "    <tr>\n",
       "      <th>0</th>\n",
       "      <td>42195856-a6be-4da9-a656-a1fe8f23a9aa</td>\n",
       "      <td>1</td>\n",
       "      <td>11 July 2023</td>\n",
       "      <td>Calls for evidence</td>\n",
       "      <td>NaN</td>\n",
       "      <td>ChatGPT: Keegan launches call for evidence on ...</td>\n",
       "      <td>NaN</td>\n",
       "      <td>NaN</td>\n",
       "    </tr>\n",
       "    <tr>\n",
       "      <th>1</th>\n",
       "      <td>c97ff62f-83ca-47ec-a4c7-b4e24157ae0a</td>\n",
       "      <td>1</td>\n",
       "      <td>11 July 2023</td>\n",
       "      <td>Calls for evidence</td>\n",
       "      <td>NaN</td>\n",
       "      <td>Deadline 23 August 2023</td>\n",
       "      <td>Education secretary Gillian Keegan has launche...</td>\n",
       "      <td>https://schoolsweek.co.uk/chatgpt-keegan-launc...</td>\n",
       "    </tr>\n",
       "    <tr>\n",
       "      <th>2</th>\n",
       "      <td>e66a8dd2-0dce-444a-876c-3c8137ea2985</td>\n",
       "      <td>1</td>\n",
       "      <td>11 July 2023</td>\n",
       "      <td>DfE</td>\n",
       "      <td>NaN</td>\n",
       "      <td>Revealed: the experts advising ministers on te...</td>\n",
       "      <td>The Department for Education has appointed an ...</td>\n",
       "      <td>https://schoolsweek.co.uk/revealed-the-experts...</td>\n",
       "    </tr>\n",
       "    <tr>\n",
       "      <th>3</th>\n",
       "      <td>2ce7fa71-0b07-417c-a7d3-8d18e8f12716</td>\n",
       "      <td>1</td>\n",
       "      <td>11 July 2023</td>\n",
       "      <td>DfE</td>\n",
       "      <td>NaN</td>\n",
       "      <td>Reject fewer teacher applicants, DfE tells tra...</td>\n",
       "      <td>Susan Acland-Hood, the DfE’s permanent secreta...</td>\n",
       "      <td>https://schoolsweek.co.uk/reject-fewer-teacher...</td>\n",
       "    </tr>\n",
       "    <tr>\n",
       "      <th>4</th>\n",
       "      <td>64c74d6d-b558-4183-a42d-e7f0141ce527</td>\n",
       "      <td>1</td>\n",
       "      <td>11 July 2023</td>\n",
       "      <td>DfE</td>\n",
       "      <td>NaN</td>\n",
       "      <td>Ofqual and DfE studying ‘feasibility’ of ‘full...</td>\n",
       "      <td>Some exam boards are already piloting on-scree...</td>\n",
       "      <td>https://schoolsweek.co.uk/teachers-back-digita...</td>\n",
       "    </tr>\n",
       "    <tr>\n",
       "      <th>...</th>\n",
       "      <td>...</td>\n",
       "      <td>...</td>\n",
       "      <td>...</td>\n",
       "      <td>...</td>\n",
       "      <td>...</td>\n",
       "      <td>...</td>\n",
       "      <td>...</td>\n",
       "      <td>...</td>\n",
       "    </tr>\n",
       "    <tr>\n",
       "      <th>1653</th>\n",
       "      <td>35ce9756-68d8-49ae-b8fd-d3e394c8ed6e</td>\n",
       "      <td>87</td>\n",
       "      <td>10 October 2025</td>\n",
       "      <td>EdTech</td>\n",
       "      <td>NaN</td>\n",
       "      <td>Alan Turing Institute - Children and AI: Advan...</td>\n",
       "      <td>The Children and AI programme of work reports ...</td>\n",
       "      <td>https://www.turing.ac.uk/research/research-pro...</td>\n",
       "    </tr>\n",
       "    <tr>\n",
       "      <th>1654</th>\n",
       "      <td>5bf615f8-9fc0-4826-8fdd-a5fb0fad03dc</td>\n",
       "      <td>87</td>\n",
       "      <td>10 October 2025</td>\n",
       "      <td>EdTech</td>\n",
       "      <td>NaN</td>\n",
       "      <td>UNESCO: AI and the future of education: disrup...</td>\n",
       "      <td>An anthology of think pieces by leading critic...</td>\n",
       "      <td>https://unesdoc.unesco.org/ark:/48223/pf000039...</td>\n",
       "    </tr>\n",
       "    <tr>\n",
       "      <th>1655</th>\n",
       "      <td>cbc05857-caa6-478c-96dd-1aba75ca3a2e</td>\n",
       "      <td>87</td>\n",
       "      <td>10 October 2025</td>\n",
       "      <td>Political environment and key organisations</td>\n",
       "      <td>NaN</td>\n",
       "      <td>OECD - Results from The OECD Teaching and Lear...</td>\n",
       "      <td>TALIS is the world’s largest survey of teacher...</td>\n",
       "      <td>https://www.oecd.org/en/publications/2025/10/r...</td>\n",
       "    </tr>\n",
       "    <tr>\n",
       "      <th>1656</th>\n",
       "      <td>a72846bb-5b55-4983-bc3d-a22047d87509</td>\n",
       "      <td>87</td>\n",
       "      <td>10 October 2025</td>\n",
       "      <td>Political environment and key organisations</td>\n",
       "      <td>NaN</td>\n",
       "      <td>DfE Research &amp; Analysis - Identifying and supp...</td>\n",
       "      <td>Findings from a series of rapid evidence asses...</td>\n",
       "      <td>https://www.gov.uk/government/publications/ide...</td>\n",
       "    </tr>\n",
       "    <tr>\n",
       "      <th>1657</th>\n",
       "      <td>139d46c7-b1a6-4171-ba67-9323751413e0</td>\n",
       "      <td>87</td>\n",
       "      <td>10 October 2025</td>\n",
       "      <td>Political environment and key organisations</td>\n",
       "      <td>NaN</td>\n",
       "      <td>Ofsted - Initial teacher education thematic mo...</td>\n",
       "      <td>A report outlining findings from 78 thematic m...</td>\n",
       "      <td>https://www.gov.uk/government/publications/ini...</td>\n",
       "    </tr>\n",
       "  </tbody>\n",
       "</table>\n",
       "<p>1658 rows × 8 columns</p>\n",
       "</div>"
      ],
      "text/plain": [
       "                                        id  newsletter_number  \\\n",
       "0     42195856-a6be-4da9-a656-a1fe8f23a9aa                  1   \n",
       "1     c97ff62f-83ca-47ec-a4c7-b4e24157ae0a                  1   \n",
       "2     e66a8dd2-0dce-444a-876c-3c8137ea2985                  1   \n",
       "3     2ce7fa71-0b07-417c-a7d3-8d18e8f12716                  1   \n",
       "4     64c74d6d-b558-4183-a42d-e7f0141ce527                  1   \n",
       "...                                    ...                ...   \n",
       "1653  35ce9756-68d8-49ae-b8fd-d3e394c8ed6e                 87   \n",
       "1654  5bf615f8-9fc0-4826-8fdd-a5fb0fad03dc                 87   \n",
       "1655  cbc05857-caa6-478c-96dd-1aba75ca3a2e                 87   \n",
       "1656  a72846bb-5b55-4983-bc3d-a22047d87509                 87   \n",
       "1657  139d46c7-b1a6-4171-ba67-9323751413e0                 87   \n",
       "\n",
       "           issue_date                                        theme subtheme  \\\n",
       "0        11 July 2023                           Calls for evidence      NaN   \n",
       "1        11 July 2023                           Calls for evidence      NaN   \n",
       "2        11 July 2023                                          DfE      NaN   \n",
       "3        11 July 2023                                          DfE      NaN   \n",
       "4        11 July 2023                                          DfE      NaN   \n",
       "...               ...                                          ...      ...   \n",
       "1653  10 October 2025                                       EdTech      NaN   \n",
       "1654  10 October 2025                                       EdTech      NaN   \n",
       "1655  10 October 2025  Political environment and key organisations      NaN   \n",
       "1656  10 October 2025  Political environment and key organisations      NaN   \n",
       "1657  10 October 2025  Political environment and key organisations      NaN   \n",
       "\n",
       "                                                  title  \\\n",
       "0     ChatGPT: Keegan launches call for evidence on ...   \n",
       "1                               Deadline 23 August 2023   \n",
       "2     Revealed: the experts advising ministers on te...   \n",
       "3     Reject fewer teacher applicants, DfE tells tra...   \n",
       "4     Ofqual and DfE studying ‘feasibility’ of ‘full...   \n",
       "...                                                 ...   \n",
       "1653  Alan Turing Institute - Children and AI: Advan...   \n",
       "1654  UNESCO: AI and the future of education: disrup...   \n",
       "1655  OECD - Results from The OECD Teaching and Lear...   \n",
       "1656  DfE Research & Analysis - Identifying and supp...   \n",
       "1657  Ofsted - Initial teacher education thematic mo...   \n",
       "\n",
       "                                            description  \\\n",
       "0                                                   NaN   \n",
       "1     Education secretary Gillian Keegan has launche...   \n",
       "2     The Department for Education has appointed an ...   \n",
       "3     Susan Acland-Hood, the DfE’s permanent secreta...   \n",
       "4     Some exam boards are already piloting on-scree...   \n",
       "...                                                 ...   \n",
       "1653  The Children and AI programme of work reports ...   \n",
       "1654  An anthology of think pieces by leading critic...   \n",
       "1655  TALIS is the world’s largest survey of teacher...   \n",
       "1656  Findings from a series of rapid evidence asses...   \n",
       "1657  A report outlining findings from 78 thematic m...   \n",
       "\n",
       "                                                   link  \n",
       "0                                                   NaN  \n",
       "1     https://schoolsweek.co.uk/chatgpt-keegan-launc...  \n",
       "2     https://schoolsweek.co.uk/revealed-the-experts...  \n",
       "3     https://schoolsweek.co.uk/reject-fewer-teacher...  \n",
       "4     https://schoolsweek.co.uk/teachers-back-digita...  \n",
       "...                                                 ...  \n",
       "1653  https://www.turing.ac.uk/research/research-pro...  \n",
       "1654  https://unesdoc.unesco.org/ark:/48223/pf000039...  \n",
       "1655  https://www.oecd.org/en/publications/2025/10/r...  \n",
       "1656  https://www.gov.uk/government/publications/ide...  \n",
       "1657  https://www.gov.uk/government/publications/ini...  \n",
       "\n",
       "[1658 rows x 8 columns]"
      ]
     },
     "execution_count": 3,
     "metadata": {},
     "output_type": "execute_result"
    }
   ],
   "source": [
    "#inspect \n",
    "df.info()\n",
    "df.head(-10)"
   ]
  },
  {
   "cell_type": "code",
   "execution_count": 4,
   "id": "1e2b298b-cda9-42b2-a161-abb72b600421",
   "metadata": {},
   "outputs": [
    {
     "name": "stdout",
     "output_type": "stream",
     "text": [
      "Total rows: 1668\n",
      "Unique newsletter: 87\n"
     ]
    }
   ],
   "source": [
    "print(f\"Total rows: {len(df)}\")\n",
    "print(f\"Unique newsletter: {df['newsletter_number'].nunique()}\")"
   ]
  },
  {
   "cell_type": "code",
   "execution_count": 5,
   "id": "eb73c6d2-92c3-444a-bf58-a13b9ecf621f",
   "metadata": {},
   "outputs": [
    {
     "data": {
      "text/plain": [
       "newsletter_number\n",
       "1     18\n",
       "2     27\n",
       "3     15\n",
       "4     14\n",
       "5     29\n",
       "      ..\n",
       "83    19\n",
       "84    29\n",
       "85    17\n",
       "86    17\n",
       "87    22\n",
       "Name: count, Length: 87, dtype: int64"
      ]
     },
     "metadata": {},
     "output_type": "display_data"
    }
   ],
   "source": [
    "#number of items per newsletter\n",
    "items_per_newsletter = df['newsletter_number'].value_counts().sort_index()\n",
    "display(items_per_newsletter)"
   ]
  },
  {
   "cell_type": "code",
   "execution_count": 6,
   "id": "9d63bf3c-be3c-49ff-9e94-26dc874c8ad3",
   "metadata": {},
   "outputs": [
    {
     "data": {
      "text/plain": [
       "newsletter_number\n",
       "23     9\n",
       "10    11\n",
       "19    11\n",
       "8     12\n",
       "20    12\n",
       "24    12\n",
       "26    12\n",
       "13    13\n",
       "17    13\n",
       "4     14\n",
       "16    14\n",
       "18    14\n",
       "22    14\n",
       "3     15\n",
       "11    15\n",
       "12    15\n",
       "14    15\n",
       "35    15\n",
       "53    15\n",
       "66    15\n",
       "Name: count, dtype: int64"
      ]
     },
     "metadata": {},
     "output_type": "display_data"
    }
   ],
   "source": [
    "# Get the 20 newsletters with the fewest items\n",
    "lowest_20 = items_per_newsletter.nsmallest(20)\n",
    "\n",
    "display(lowest_20)"
   ]
  },
  {
   "cell_type": "code",
   "execution_count": 7,
   "id": "8d8b1bb9-ef8e-49e7-9735-34ae245c8f2a",
   "metadata": {},
   "outputs": [
    {
     "data": {
      "text/plain": [
       "newsletter_number\n",
       "5     29\n",
       "84    29\n",
       "31    28\n",
       "59    28\n",
       "2     27\n",
       "68    27\n",
       "44    26\n",
       "45    26\n",
       "60    26\n",
       "70    26\n",
       "71    25\n",
       "72    25\n",
       "77    25\n",
       "28    24\n",
       "30    24\n",
       "56    24\n",
       "33    23\n",
       "74    23\n",
       "75    23\n",
       "6     22\n",
       "Name: count, dtype: int64"
      ]
     },
     "metadata": {},
     "output_type": "display_data"
    }
   ],
   "source": [
    "# Get the 20 newsletters with the most items\n",
    "highest_20 = items_per_newsletter.nlargest(20)\n",
    "\n",
    "display(highest_20)"
   ]
  },
  {
   "cell_type": "code",
   "execution_count": 8,
   "id": "7d270b74-4dec-4870-99f2-51258f745bfb",
   "metadata": {},
   "outputs": [
    {
     "data": {
      "image/png": "[encoded data removed]",
      "text/plain": [
       "<Figure size 1200x600 with 1 Axes>"
      ]
     },
     "metadata": {},
     "output_type": "display_data"
    }
   ],
   "source": [
    "plt.figure(figsize=(12, 6))\n",
    "items_per_newsletter.plot(kind='bar', color='steelblue')\n",
    "plt.title('Number of Items per Newsletter')\n",
    "plt.xlabel('Newsletter Number')\n",
    "plt.ylabel('Item Count')\n",
    "plt.grid(axis='y', linestyle='--', alpha=0.7)\n",
    "plt.show()"
   ]
  }
 ],
 "metadata": {
  "kernelspec": {
   "display_name": "Python 3 (ipykernel)",
   "language": "python",
   "name": "python3"
  },
  "language_info": {
   "codemirror_mode": {
    "name": "ipython",
    "version": 3
   },
   "file_extension": ".py",
   "mimetype": "text/x-python",
   "name": "python",
   "nbconvert_exporter": "python",
   "pygments_lexer": "ipython3",
   "version": "3.12.1"
  }
 },
 "nbformat": 4,
 "nbformat_minor": 5
}
